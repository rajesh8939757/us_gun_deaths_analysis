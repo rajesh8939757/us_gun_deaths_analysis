{
 "cells": [
  {
   "cell_type": "code",
   "execution_count": 2,
   "metadata": {
    "collapsed": false
   },
   "outputs": [
    {
     "name": "stdout",
     "output_type": "stream",
     "text": [
      "[['', 'year', 'month', 'intent', 'police', 'sex', 'age', 'race', 'hispanic', 'place', 'education'], ['1', '2012', '01', 'Suicide', '0', 'M', '34', 'Asian/Pacific Islander', '100', 'Home', '4'], ['2', '2012', '01', 'Suicide', '0', 'F', '21', 'White', '100', 'Street', '3'], ['3', '2012', '01', 'Suicide', '0', 'M', '60', 'White', '100', 'Other specified', '4'], ['4', '2012', '02', 'Suicide', '0', 'M', '64', 'White', '100', 'Home', '4']]\n"
     ]
    }
   ],
   "source": [
    "import csv\n",
    "f = open(\"guns.csv\",\"r\")\n",
    "data1 = csv.reader(f)\n",
    "data = list(data1)\n",
    "print(data[0:5])"
   ]
  },
  {
   "cell_type": "code",
   "execution_count": 3,
   "metadata": {
    "collapsed": false
   },
   "outputs": [
    {
     "name": "stdout",
     "output_type": "stream",
     "text": [
      "[['1', '2012', '01', 'Suicide', '0', 'M', '34', 'Asian/Pacific Islander', '100', 'Home', '4'], ['2', '2012', '01', 'Suicide', '0', 'F', '21', 'White', '100', 'Street', '3'], ['3', '2012', '01', 'Suicide', '0', 'M', '60', 'White', '100', 'Other specified', '4'], ['4', '2012', '02', 'Suicide', '0', 'M', '64', 'White', '100', 'Home', '4'], ['5', '2012', '02', 'Suicide', '0', 'M', '31', 'White', '100', 'Other specified', '2']]\n"
     ]
    }
   ],
   "source": [
    "headers = data[0]\n",
    "data = data[1:]\n",
    "print(data[0:5])"
   ]
  },
  {
   "cell_type": "code",
   "execution_count": 4,
   "metadata": {
    "collapsed": false
   },
   "outputs": [
    {
     "name": "stdout",
     "output_type": "stream",
     "text": [
      "{'2013': 33636, '2012': 33563, '2014': 33599}\n"
     ]
    }
   ],
   "source": [
    "years = [row[1] for row in data]\n",
    "years_counts = {}\n",
    "for year in years:\n",
    "    if year in years_counts:\n",
    "        years_counts[year] = years_counts[year] + 1\n",
    "    else:\n",
    "        years_counts[year] = 1\n",
    "print(years_counts)        "
   ]
  },
  {
   "cell_type": "code",
   "execution_count": 5,
   "metadata": {
    "collapsed": false
   },
   "outputs": [
    {
     "name": "stdout",
     "output_type": "stream",
     "text": [
      "[datetime.datetime(2012, 1, 1, 0, 0), datetime.datetime(2012, 1, 1, 0, 0), datetime.datetime(2012, 1, 1, 0, 0), datetime.datetime(2012, 2, 1, 0, 0), datetime.datetime(2012, 2, 1, 0, 0)]\n"
     ]
    }
   ],
   "source": [
    "import datetime\n",
    "dates = [datetime.datetime(year = int(row[1]), month = int(row[2]), day = 1) for row in data ]\n",
    "print(dates[0:5])"
   ]
  },
  {
   "cell_type": "code",
   "execution_count": 6,
   "metadata": {
    "collapsed": false,
    "scrolled": false
   },
   "outputs": [
    {
     "name": "stdout",
     "output_type": "stream",
     "text": [
      "{datetime.datetime(2014, 8, 1, 0, 0): 2970, datetime.datetime(2013, 3, 1, 0, 0): 2862, datetime.datetime(2012, 6, 1, 0, 0): 2826, datetime.datetime(2012, 8, 1, 0, 0): 2954, datetime.datetime(2013, 2, 1, 0, 0): 2375, datetime.datetime(2012, 12, 1, 0, 0): 2791, datetime.datetime(2013, 11, 1, 0, 0): 2758, datetime.datetime(2013, 10, 1, 0, 0): 2808, datetime.datetime(2012, 3, 1, 0, 0): 2743, datetime.datetime(2013, 4, 1, 0, 0): 2798, datetime.datetime(2013, 6, 1, 0, 0): 2920, datetime.datetime(2013, 12, 1, 0, 0): 2765, datetime.datetime(2012, 2, 1, 0, 0): 2357, datetime.datetime(2012, 5, 1, 0, 0): 2999, datetime.datetime(2014, 1, 1, 0, 0): 2651, datetime.datetime(2013, 1, 1, 0, 0): 2864, datetime.datetime(2014, 6, 1, 0, 0): 2931, datetime.datetime(2012, 4, 1, 0, 0): 2795, datetime.datetime(2014, 11, 1, 0, 0): 2756, datetime.datetime(2014, 12, 1, 0, 0): 2857, datetime.datetime(2012, 1, 1, 0, 0): 2758, datetime.datetime(2012, 11, 1, 0, 0): 2729, datetime.datetime(2014, 3, 1, 0, 0): 2684, datetime.datetime(2014, 5, 1, 0, 0): 2864, datetime.datetime(2014, 10, 1, 0, 0): 2865, datetime.datetime(2014, 4, 1, 0, 0): 2862, datetime.datetime(2013, 8, 1, 0, 0): 2859, datetime.datetime(2013, 7, 1, 0, 0): 3079, datetime.datetime(2014, 9, 1, 0, 0): 2914, datetime.datetime(2012, 7, 1, 0, 0): 3026, datetime.datetime(2012, 9, 1, 0, 0): 2852, datetime.datetime(2014, 2, 1, 0, 0): 2361, datetime.datetime(2013, 9, 1, 0, 0): 2742, datetime.datetime(2013, 5, 1, 0, 0): 2806, datetime.datetime(2014, 7, 1, 0, 0): 2884, datetime.datetime(2012, 10, 1, 0, 0): 2733}\n"
     ]
    }
   ],
   "source": [
    "date_counts = {}\n",
    "for date in dates:\n",
    "    if date in date_counts:\n",
    "        date_counts[date] = date_counts[date] + 1\n",
    "    else:\n",
    "        date_counts[date] = 1\n",
    "print(date_counts) "
   ]
  },
  {
   "cell_type": "code",
   "execution_count": 7,
   "metadata": {
    "collapsed": false,
    "scrolled": true
   },
   "outputs": [
    {
     "name": "stdout",
     "output_type": "stream",
     "text": [
      "{'F': 14449, 'M': 86349}\n"
     ]
    }
   ],
   "source": [
    "sex_counts = {}\n",
    "for row in data:\n",
    "    if row[5] in sex_counts:\n",
    "        sex_counts[row[5]] = sex_counts[row[5]] + 1\n",
    "    else:\n",
    "        sex_counts[row[5]] = 1\n",
    "print(sex_counts)"
   ]
  },
  {
   "cell_type": "code",
   "execution_count": 8,
   "metadata": {
    "collapsed": false
   },
   "outputs": [
    {
     "name": "stdout",
     "output_type": "stream",
     "text": [
      "{'Hispanic': 9022, 'White': 66237, 'Asian/Pacific Islander': 1326, 'Native American/Native Alaskan': 917, 'Black': 23296}\n"
     ]
    }
   ],
   "source": [
    "race_counts = {}\n",
    "for row in data:\n",
    "    if row[7] in race_counts:\n",
    "        race_counts[row[7]] = race_counts[row[7]] + 1\n",
    "    else:\n",
    "        race_counts[row[7]] = 1\n",
    "print(race_counts)"
   ]
  },
  {
   "cell_type": "markdown",
   "metadata": {},
   "source": [
    "# My Analysis\n",
    "* Most of the guns deaths occured \n",
    "    0. By Males as per sex\n",
    "    8. By White as per race"
   ]
  },
  {
   "cell_type": "code",
   "execution_count": 9,
   "metadata": {
    "collapsed": false
   },
   "outputs": [
    {
     "name": "stdout",
     "output_type": "stream",
     "text": [
      "[['Id', 'Year', 'Id', 'Sex', 'Id', 'Hispanic Origin', 'Id', 'Id2', 'Geography', 'Total', 'Race Alone - White', 'Race Alone - Hispanic', 'Race Alone - Black or African American', 'Race Alone - American Indian and Alaska Native', 'Race Alone - Asian', 'Race Alone - Native Hawaiian and Other Pacific Islander', 'Two or More Races'], ['cen42010', 'April 1, 2010 Census', 'totsex', 'Both Sexes', 'tothisp', 'Total', '0100000US', '', 'United States', '308745538', '197318956', '44618105', '40250635', '3739506', '15159516', '674625', '6984195']]\n"
     ]
    }
   ],
   "source": [
    "census_file = open(\"census.csv\",\"r\")\n",
    "census_read = csv.reader(census_file)\n",
    "census = list(census_read)\n",
    "print(census)"
   ]
  },
  {
   "cell_type": "code",
   "execution_count": 10,
   "metadata": {
    "collapsed": false
   },
   "outputs": [
    {
     "name": "stdout",
     "output_type": "stream",
     "text": [
      "{'Hispanic': 20.220491210910907, 'White': 33.56849303419181, 'Asian/Pacific Islander': 196.55364091161758, 'Native American/Native Alaskan': 24.521955573811088, 'Black': 57.8773477735196}\n"
     ]
    }
   ],
   "source": [
    "mapping = {\"Asian/Pacific Islander\" : 674625, \"Black\" : 40250635, \"Native American/Native Alaskan\" : 3739506, \"Hispanic\" : 44618105, \"White\" : 197318956}\n",
    "race_per_hundredk = {}\n",
    "\n",
    "for key,count in race_counts.items():\n",
    "    value = (count/mapping[key])*100000\n",
    "    race_per_hundredk[key] = value\n",
    "print(race_per_hundredk)"
   ]
  },
  {
   "cell_type": "code",
   "execution_count": 11,
   "metadata": {
    "collapsed": false
   },
   "outputs": [
    {
     "name": "stdout",
     "output_type": "stream",
     "text": [
      "{'Hispanic': 5634, 'White': 9147, 'Asian/Pacific Islander': 559, 'Native American/Native Alaskan': 326, 'Black': 19510}\n"
     ]
    }
   ],
   "source": [
    "intents = [row[3] for row in data]\n",
    "races = [row[7] for row in data]\n",
    "\n",
    "homicide_race_counts = {}\n",
    "\n",
    "for i,race in enumerate(races):\n",
    "    if intents[i] == \"Homicide\":\n",
    "        if race in homicide_race_counts:\n",
    "            homicide_race_counts[race] = homicide_race_counts[race] + 1\n",
    "        else:\n",
    "            homicide_race_counts[race] = 1\n",
    "            \n",
    "print(homicide_race_counts)\n",
    "            "
   ]
  },
  {
   "cell_type": "code",
   "execution_count": 12,
   "metadata": {
    "collapsed": false
   },
   "outputs": [
    {
     "name": "stdout",
     "output_type": "stream",
     "text": [
      "{'Hispanic': 12.627161104219914, 'White': 4.6356417981453335, 'Asian/Pacific Islander': 82.86084861960349, 'Native American/Native Alaskan': 8.717729026240365, 'Black': 48.471284987180944}\n"
     ]
    }
   ],
   "source": [
    "for key,count in homicide_race_counts.items():\n",
    "    value = (count/mapping[key])*100000\n",
    "    race_per_hundredk[key] = value\n",
    "print(race_per_hundredk)"
   ]
  },
  {
   "cell_type": "markdown",
   "metadata": {},
   "source": [
    "# Guns Death Report\n",
    "\n",
    "When consinder the data about gun deaths in US.\n",
    "\n",
    "For every 100000, avg of (app)\n",
    "    1. 82 of Asian/Pacific Islander\n",
    "    2. 48 of Black\n",
    "    3. 12 of Hispanic\n",
    "    4. 8 of Native American/Native Alaskan\n",
    "    5. 4 of White\n",
    " were died homicide."
   ]
  },
  {
   "cell_type": "code",
   "execution_count": 13,
   "metadata": {
    "collapsed": false
   },
   "outputs": [
    {
     "name": "stdout",
     "output_type": "stream",
     "text": [
      "{datetime.datetime(2014, 8, 1, 0, 0): 1035, datetime.datetime(2013, 3, 1, 0, 0): 923, datetime.datetime(2012, 6, 1, 0, 0): 1044, datetime.datetime(2012, 8, 1, 0, 0): 1090, datetime.datetime(2013, 2, 1, 0, 0): 721, datetime.datetime(2012, 12, 1, 0, 0): 1083, datetime.datetime(2013, 11, 1, 0, 0): 979, datetime.datetime(2013, 10, 1, 0, 0): 1009, datetime.datetime(2012, 3, 1, 0, 0): 966, datetime.datetime(2013, 4, 1, 0, 0): 916, datetime.datetime(2013, 6, 1, 0, 0): 1066, datetime.datetime(2013, 12, 1, 0, 0): 1028, datetime.datetime(2012, 2, 1, 0, 0): 749, datetime.datetime(2012, 5, 1, 0, 0): 1003, datetime.datetime(2014, 1, 1, 0, 0): 871, datetime.datetime(2013, 1, 1, 0, 0): 986, datetime.datetime(2014, 6, 1, 0, 0): 1020, datetime.datetime(2012, 4, 1, 0, 0): 999, datetime.datetime(2014, 11, 1, 0, 0): 962, datetime.datetime(2014, 12, 1, 0, 0): 1080, datetime.datetime(2012, 1, 1, 0, 0): 972, datetime.datetime(2012, 11, 1, 0, 0): 978, datetime.datetime(2014, 3, 1, 0, 0): 891, datetime.datetime(2014, 5, 1, 0, 0): 1018, datetime.datetime(2014, 10, 1, 0, 0): 980, datetime.datetime(2014, 4, 1, 0, 0): 930, datetime.datetime(2013, 8, 1, 0, 0): 1000, datetime.datetime(2013, 7, 1, 0, 0): 1137, datetime.datetime(2014, 9, 1, 0, 0): 942, datetime.datetime(2012, 7, 1, 0, 0): 1160, datetime.datetime(2012, 9, 1, 0, 0): 1070, datetime.datetime(2014, 2, 1, 0, 0): 708, datetime.datetime(2013, 9, 1, 0, 0): 954, datetime.datetime(2013, 5, 1, 0, 0): 955, datetime.datetime(2014, 7, 1, 0, 0): 972, datetime.datetime(2012, 10, 1, 0, 0): 979}\n"
     ]
    }
   ],
   "source": [
    "intents = [row[3] for row in data]\n",
    "\n",
    "homicide_date_counts = {}\n",
    "\n",
    "for i,date in enumerate(dates):\n",
    "    if intents[i] == \"Homicide\":\n",
    "        if date in homicide_date_counts:\n",
    "            homicide_date_counts[date] = homicide_date_counts[date] + 1\n",
    "        else:\n",
    "            homicide_date_counts[date] = 1\n",
    "            \n",
    "print(homicide_date_counts)"
   ]
  },
  {
   "cell_type": "code",
   "execution_count": 16,
   "metadata": {
    "collapsed": false,
    "scrolled": false
   },
   "outputs": [
    {
     "name": "stdout",
     "output_type": "stream",
     "text": [
      "{1: 8775, 2: 6907, 3: 8457, 4: 8633, 5: 8594, 6: 8602, 7: 9194, 8: 8628, 9: 8393, 10: 8370, 11: 8190, 12: 8055}\n"
     ]
    }
   ],
   "source": [
    "intents = [row[3] for row in data]\n",
    "homicide_date_mon_counts = {}\n",
    "\n",
    "for i,date in enumerate(dates):\n",
    "    if intents[i] == \"Homicide\":\n",
    "            date1 = date.month\n",
    "    if date1 in homicide_date_mon_counts:\n",
    "            homicide_date_mon_counts[date1] = homicide_date_mon_counts[date1] + 1\n",
    "    else:\n",
    "            homicide_date_mon_counts[date1] = 1\n",
    "            \n",
    "print(homicide_date_mon_counts)"
   ]
  },
  {
   "cell_type": "code",
   "execution_count": 17,
   "metadata": {
    "collapsed": false
   },
   "outputs": [
    {
     "name": "stdout",
     "output_type": "stream",
     "text": [
      "{'F': 3, 'M': 8}\n"
     ]
    }
   ],
   "source": [
    "homicide_gender_counts ={}\n",
    "for i,row in enumerate(data):\n",
    "    if intents[i] == 'Homicide':\n",
    "        if row[5] in homicide_gender_counts:\n",
    "            homicide_gender_counts[row[5]] = homicide_gender_counts[row[5]] + 1\n",
    "    else:\n",
    "            homicide_gender_counts[row[5]] = 1\n",
    "            \n",
    "print(homicide_gender_counts)"
   ]
  },
  {
   "cell_type": "code",
   "execution_count": 19,
   "metadata": {
    "collapsed": false
   },
   "outputs": [
    {
     "name": "stdout",
     "output_type": "stream",
     "text": [
      "{'F': 1, 'M': 1}\n"
     ]
    }
   ],
   "source": [
    "Accidental_gender_counts ={}\n",
    "for i,row in enumerate(data):\n",
    "    if intents[i] == 'Accidental':\n",
    "        if row[5] in Accidental_gender_counts:\n",
    "            Accidental_gender_counts[row[5]] = Accidental_gender_counts[row[5]] + 1\n",
    "    else:\n",
    "            Accidental_gender_counts[row[5]] = 1\n",
    "            \n",
    "print(Accidental_gender_counts)"
   ]
  },
  {
   "cell_type": "code",
   "execution_count": 21,
   "metadata": {
    "collapsed": false
   },
   "outputs": [
    {
     "name": "stdout",
     "output_type": "stream",
     "text": [
      "{'Hispanic': 145, 'White': 1132, 'Asian/Pacific Islander': 12, 'Native American/Native Alaskan': 22, 'Black': 328}\n"
     ]
    }
   ],
   "source": [
    "Accidental_race_counts = {}\n",
    "\n",
    "for i,race in enumerate(races):\n",
    "    if intents[i] == \"Accidental\":\n",
    "        if race in Accidental_race_counts:\n",
    "            Accidental_race_counts[race] = Accidental_race_counts[race] + 1\n",
    "        else:\n",
    "            Accidental_race_counts[race] = 1\n",
    "            \n",
    "print(Accidental_race_counts)"
   ]
  },
  {
   "cell_type": "code",
   "execution_count": 23,
   "metadata": {
    "collapsed": false
   },
   "outputs": [
    {
     "name": "stdout",
     "output_type": "stream",
     "text": [
      "{'Hispanic': 32.49801846133985, 'White': 57.36904466492312, 'Asian/Pacific Islander': 177.87659811006117, 'Native American/Native Alaskan': 58.83130017708221, 'Black': 81.4893976206835}\n"
     ]
    }
   ],
   "source": [
    "acc_race_per_hundredk = {}\n",
    "for key,count in Accidental_race_counts.items():\n",
    "    value = (count/mapping[key])*10000000\n",
    "    acc_race_per_hundredk[key] = value\n",
    "print(acc_race_per_hundredk)"
   ]
  },
  {
   "cell_type": "code",
   "execution_count": 24,
   "metadata": {
    "collapsed": false
   },
   "outputs": [
    {
     "name": "stdout",
     "output_type": "stream",
     "text": [
      "{'Farm': 470, 'Other unspecified': 8867, 'Industrial/construction': 248, 'NA': 1384, 'Home': 60486, 'Residential institution': 203, 'Street': 11151, 'Sports': 128, 'Other specified': 13751, 'Trade/service area': 3439, 'School/instiution': 671}\n"
     ]
    }
   ],
   "source": [
    "loc_counts = {}\n",
    "for row in data:\n",
    "    if row[9] in loc_counts:\n",
    "        loc_counts[row[9]] = loc_counts[row[9]] + 1\n",
    "    else:\n",
    "        loc_counts[row[9]] = 1\n",
    "print(loc_counts)"
   ]
  },
  {
   "cell_type": "code",
   "execution_count": 25,
   "metadata": {
    "collapsed": false
   },
   "outputs": [
    {
     "name": "stdout",
     "output_type": "stream",
     "text": [
      "{'4': 12946, '3': 21680, '1': 21823, 'NA': 53, '5': 1369, '2': 42927}\n"
     ]
    }
   ],
   "source": [
    "ed_counts = {}\n",
    "for row in data:\n",
    "    if row[10] in ed_counts:\n",
    "        ed_counts[row[10]] = ed_counts[row[10]] + 1\n",
    "    else:\n",
    "        ed_counts[row[10]] = 1\n",
    "print(ed_counts)"
   ]
  },
  {
   "cell_type": "code",
   "execution_count": null,
   "metadata": {
    "collapsed": true
   },
   "outputs": [],
   "source": []
  }
 ],
 "metadata": {
  "kernelspec": {
   "display_name": "Python 3",
   "language": "python",
   "name": "python3"
  },
  "language_info": {
   "codemirror_mode": {
    "name": "ipython",
    "version": 3
   },
   "file_extension": ".py",
   "mimetype": "text/x-python",
   "name": "python",
   "nbconvert_exporter": "python",
   "pygments_lexer": "ipython3",
   "version": "3.4.3"
  }
 },
 "nbformat": 4,
 "nbformat_minor": 0
}
